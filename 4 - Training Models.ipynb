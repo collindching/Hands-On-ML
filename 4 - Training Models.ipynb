{
 "cells": [
  {
   "cell_type": "markdown",
   "metadata": {},
   "source": [
    "Having a good understanding of how models work can help you choose the appropriate model, training algorithm, and set of hyperparameters. Understanding what's under the hood will also help debug issues and perform error analysis more efficiently.\n",
    "\n",
    "**The Linear Regression model**: two methods of training\n",
    "1. \"Closed-form\" equation directly computers model parameters\n",
    "2. Iterative optimization approach, called gradient descent, gradually tweaks model parameters to minize cost function over training set\n",
    "\n",
    "**Polynomial Regression**: more complex, fits nonlinear datasets, prone to overfitting. Use learning curves and regularization to reduce overfitting.\n",
    "\n",
    "**Logistic Regression**\n",
    "\n",
    "**Softmax Regression**"
   ]
  },
  {
   "cell_type": "markdown",
   "metadata": {},
   "source": [
    "## Linear regression"
   ]
  },
  {
   "cell_type": "markdown",
   "metadata": {},
   "source": [
    "A linear model makes a prediction by computing a weighted sum of the input features, plus a constant called the bias."
   ]
  },
  {
   "cell_type": "markdown",
   "metadata": {},
   "source": [
    "\\begin{equation*}\n",
    "\\hat{y} = h_{\\theta}(x) = \\theta^{T} \\cdot x\n",
    "\\end{equation*}"
   ]
  },
  {
   "cell_type": "markdown",
   "metadata": {},
   "source": [
    "To train a linear regression model, we find the value of $\\theta$ that minimizes the RMSE (equivalent to minimizing MSE)."
   ]
  },
  {
   "cell_type": "markdown",
   "metadata": {},
   "source": [
    "\\begin{equation*}\n",
    "MSE(X,h_{\\theta}) = \\frac{1}{m}\\sum^{m}_{i=1}(\\theta^{T}\\cdot x^{i} - y^{i})^2\n",
    "\\end{equation*}"
   ]
  },
  {
   "cell_type": "markdown",
   "metadata": {},
   "source": [
    "### The normal equation"
   ]
  },
  {
   "cell_type": "markdown",
   "metadata": {},
   "source": [
    "To find the value of $\\theta$ that minimizes the cost function, there's a closed form solution that gives the result directly -- the normal equation."
   ]
  },
  {
   "cell_type": "markdown",
   "metadata": {},
   "source": [
    "\\begin{equation*}\n",
    "\\hat{\\theta} = (X^{T}\\cdot X)^{-1}\\cdot X^{T}\\cdot y\n",
    "\\end{equation*}"
   ]
  },
  {
   "cell_type": "markdown",
   "metadata": {},
   "source": [
    "Here, y is the vector of target values."
   ]
  },
  {
   "cell_type": "markdown",
   "metadata": {},
   "source": [
    "### Solve for $\\hat{\\Theta}$"
   ]
  },
  {
   "cell_type": "code",
   "execution_count": 16,
   "metadata": {},
   "outputs": [
    {
     "data": {
      "image/png": "[encoded data removed]",
      "text/plain": [
       "<Figure size 432x288 with 1 Axes>"
      ]
     },
     "metadata": {
      "needs_background": "light"
     },
     "output_type": "display_data"
    }
   ],
   "source": [
    "import numpy as np\n",
    "\n",
    "## create some sample data, 100 observations\n",
    "X = 2 * np.random.rand(100,1)\n",
    "y = 4 + 3 * X + np.random.randn(100,1)\n",
    "\n",
    "import matplotlib.pyplot as plt\n",
    "\n",
    "plt.scatter(X,y);"
   ]
  },
  {
   "cell_type": "code",
   "execution_count": 17,
   "metadata": {},
   "outputs": [],
   "source": [
    "## add ones to multiply agains the bias term in theta\n",
    "X_b = np.c_[np.ones((100,1)), X]\n",
    "##  plug into the equation\n",
    "theta_best = np.linalg.inv(X_b.T.dot(X_b)).dot(X_b.T).dot(y)"
   ]
  },
  {
   "cell_type": "code",
   "execution_count": 18,
   "metadata": {},
   "outputs": [
    {
     "data": {
      "text/plain": [
       "array([[3.93002032],\n",
       "       [2.99502519]])"
      ]
     },
     "execution_count": 18,
     "metadata": {},
     "output_type": "execute_result"
    }
   ],
   "source": [
    "theta_best"
   ]
  },
  {
   "cell_type": "markdown",
   "metadata": {},
   "source": [
    "We can make predictions from $\\hat{\\theta}$."
   ]
  },
  {
   "cell_type": "code",
   "execution_count": 22,
   "metadata": {},
   "outputs": [
    {
     "data": {
      "text/plain": [
       "array([[3.93002032],\n",
       "       [9.9200707 ]])"
      ]
     },
     "execution_count": 22,
     "metadata": {},
     "output_type": "execute_result"
    }
   ],
   "source": [
    "## each inner bracket is its own row\n",
    "X_new = np.array([[0],[2]])\n",
    "## add x0\n",
    "X_new_b = np.c_[np.ones((2, 1)), X_new]\n",
    "## to make a prediction, just take the dot product!\n",
    "y_predict = X_new_b.dot(theta_best)\n",
    "y_predict"
   ]
  },
  {
   "cell_type": "code",
   "execution_count": 26,
   "metadata": {},
   "outputs": [
    {
     "name": "stdout",
     "output_type": "stream",
     "text": [
      "[[0]\n",
      " [2]]\n",
      "[[3.93002032]\n",
      " [9.9200707 ]]\n"
     ]
    }
   ],
   "source": [
    "print(X_new)\n",
    "print(y_predict)"
   ]
  },
  {
   "cell_type": "code",
   "execution_count": 23,
   "metadata": {},
   "outputs": [
    {
     "data": {
      "image/png": "[encoded data removed]",
      "text/plain": [
       "<Figure size 432x288 with 1 Axes>"
      ]
     },
     "metadata": {
      "needs_background": "light"
     },
     "output_type": "display_data"
    }
   ],
   "source": [
    "## this plots the line between two points, '-' represents a line\n",
    "plt.plot(X_new, y_predict, \"r-\")\n",
    "## plot points\n",
    "plt.plot(X, y, \"b.\")\n",
    "plt.axis([0, 2, 0, 15])\n",
    "plt.show()"
   ]
  },
  {
   "cell_type": "markdown",
   "metadata": {},
   "source": [
    "Equivalent code in Scikit-Learn:"
   ]
  },
  {
   "cell_type": "code",
   "execution_count": 28,
   "metadata": {},
   "outputs": [
    {
     "name": "stdout",
     "output_type": "stream",
     "text": [
      "[3.93002032] [[2.99502519]]\n",
      "[[3.93002032]\n",
      " [9.9200707 ]]\n"
     ]
    }
   ],
   "source": [
    "from sklearn.linear_model import LinearRegression\n",
    "lin_reg = LinearRegression()\n",
    "lin_reg.fit(X, y)\n",
    "print(lin_reg.intercept_, lin_reg.coef_)\n",
    "print(lin_reg.predict(X_new))"
   ]
  },
  {
   "cell_type": "markdown",
   "metadata": {},
   "source": [
    "### The normal equation is expensive to compute"
   ]
  },
  {
   "cell_type": "markdown",
   "metadata": {},
   "source": [
    "The normal equation computes the inverse of $X^{T}\\cdot X$ which is an nxn matrix. Computation complexity of inverting such a matrix is extremely high. If you double features, you multiply computation time by 8. This is why we switch over to gradient descent for reasonably-sized data sets."
   ]
  },
  {
   "cell_type": "markdown",
   "metadata": {},
   "source": [
    "### Gradient descent"
   ]
  },
  {
   "cell_type": "markdown",
   "metadata": {},
   "source": [
    "Generic optimization algorithm that traverses down the gradient. You start by filling $\\theta$ with random values, then improve gradually until algorithm converges. \n",
    "\n",
    "Tips: \n",
    "* Choose learning rate so that convergence actually happens and within reasonable time.\n",
    "* You should make sure all features have similar scale to speed up convergence"
   ]
  },
  {
   "cell_type": "markdown",
   "metadata": {},
   "source": [
    "### Batch gradient descent"
   ]
  },
  {
   "cell_type": "markdown",
   "metadata": {},
   "source": [
    "To implement gradient descent, you have to compute gradient of cost function w.r.t. each model parameter $\\theta_{j}$ (the partial derivative)."
   ]
  },
  {
   "cell_type": "markdown",
   "metadata": {},
   "source": [
    "\\begin{equation*}\n",
    "\\nabla MSE_{\\theta} = \\frac{2}{m}X^{T}\\cdot (X\\cdot\\theta - y)\n",
    "\\end{equation*}"
   ]
  },
  {
   "cell_type": "code",
   "execution_count": null,
   "metadata": {},
   "outputs": [],
   "source": []
  },
  {
   "cell_type": "code",
   "execution_count": null,
   "metadata": {},
   "outputs": [],
   "source": []
  }
 ],
 "metadata": {
  "kernelspec": {
   "display_name": "Python 3",
   "language": "python",
   "name": "python3"
  },
  "language_info": {
   "codemirror_mode": {
    "name": "ipython",
    "version": 3
   },
   "file_extension": ".py",
   "mimetype": "text/x-python",
   "name": "python",
   "nbconvert_exporter": "python",
   "pygments_lexer": "ipython3",
   "version": "3.6.8"
  }
 },
 "nbformat": 4,
 "nbformat_minor": 2
}
